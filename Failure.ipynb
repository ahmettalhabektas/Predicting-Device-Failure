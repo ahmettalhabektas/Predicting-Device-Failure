{
 "cells": [
  {
   "cell_type": "markdown",
   "id": "e5eb5b2a",
   "metadata": {},
   "source": [
    "# Adding Libraries"
   ]
  },
  {
   "cell_type": "code",
   "execution_count": 1,
   "id": "6ba03b61",
   "metadata": {},
   "outputs": [],
   "source": [
    "import pandas as pd\n",
    "import matplotlib.pyplot as plt\n",
    "%matplotlib inline\n",
    "import numpy as np\n",
    "import warnings\n",
    "warnings.filterwarnings(\"ignore\")\n",
    "warnings.simplefilter('ignore')\n",
    "import seaborn as sns"
   ]
  },
  {
   "cell_type": "code",
   "execution_count": 2,
   "id": "0cf23c39",
   "metadata": {},
   "outputs": [],
   "source": [
    "from sklearn.naive_bayes import GaussianNB , BernoulliNB # 2 şey için\n",
    "from sklearn.naive_bayes import MultinomialNB# 3 ve daha fazla için\n",
    "from sklearn.neighbors import KNeighborsClassifier\n",
    "from sklearn.svm import SVC\n",
    "from sklearn.tree import DecisionTreeClassifier\n",
    "from sklearn.linear_model import LogisticRegression\n",
    "from sklearn.ensemble import GradientBoostingClassifier\n",
    "from sklearn.metrics import accuracy_score,precision_score,recall_score,f1_score\n",
    "from sklearn.metrics import confusion_matrix,classification_report\n",
    "from sklearn.model_selection import train_test_split\n",
    "from sklearn.svm import SVC"
   ]
  },
  {
   "cell_type": "markdown",
   "id": "e22c969f",
   "metadata": {},
   "source": [
    "## Reading Csv"
   ]
  },
  {
   "cell_type": "code",
   "execution_count": 3,
   "id": "a2c9ff3b",
   "metadata": {},
   "outputs": [],
   "source": [
    "df=pd.read_csv(\"failure.csv\")"
   ]
  },
  {
   "cell_type": "markdown",
   "id": "5a5df316",
   "metadata": {},
   "source": [
    "## EDA "
   ]
  },
  {
   "cell_type": "code",
   "execution_count": 4,
   "id": "d3943d21",
   "metadata": {},
   "outputs": [
    {
     "data": {
      "text/html": [
       "<div>\n",
       "<style scoped>\n",
       "    .dataframe tbody tr th:only-of-type {\n",
       "        vertical-align: middle;\n",
       "    }\n",
       "\n",
       "    .dataframe tbody tr th {\n",
       "        vertical-align: top;\n",
       "    }\n",
       "\n",
       "    .dataframe thead th {\n",
       "        text-align: right;\n",
       "    }\n",
       "</style>\n",
       "<table border=\"1\" class=\"dataframe\">\n",
       "  <thead>\n",
       "    <tr style=\"text-align: right;\">\n",
       "      <th></th>\n",
       "      <th>date</th>\n",
       "      <th>device</th>\n",
       "      <th>failure</th>\n",
       "      <th>attribute1</th>\n",
       "      <th>attribute2</th>\n",
       "      <th>attribute3</th>\n",
       "      <th>attribute4</th>\n",
       "      <th>attribute5</th>\n",
       "      <th>attribute6</th>\n",
       "      <th>attribute7</th>\n",
       "      <th>attribute8</th>\n",
       "      <th>attribute9</th>\n",
       "    </tr>\n",
       "  </thead>\n",
       "  <tbody>\n",
       "    <tr>\n",
       "      <th>53003</th>\n",
       "      <td>2015-03-13</td>\n",
       "      <td>W1F0TATM</td>\n",
       "      <td>0</td>\n",
       "      <td>79465432</td>\n",
       "      <td>0</td>\n",
       "      <td>0</td>\n",
       "      <td>6</td>\n",
       "      <td>32</td>\n",
       "      <td>250821</td>\n",
       "      <td>0</td>\n",
       "      <td>0</td>\n",
       "      <td>0</td>\n",
       "    </tr>\n",
       "    <tr>\n",
       "      <th>47577</th>\n",
       "      <td>2015-03-05</td>\n",
       "      <td>W1F0P3FR</td>\n",
       "      <td>0</td>\n",
       "      <td>82417216</td>\n",
       "      <td>0</td>\n",
       "      <td>0</td>\n",
       "      <td>0</td>\n",
       "      <td>12</td>\n",
       "      <td>300691</td>\n",
       "      <td>0</td>\n",
       "      <td>0</td>\n",
       "      <td>1</td>\n",
       "    </tr>\n",
       "    <tr>\n",
       "      <th>85322</th>\n",
       "      <td>2015-05-25</td>\n",
       "      <td>S1F0S30R</td>\n",
       "      <td>0</td>\n",
       "      <td>172933256</td>\n",
       "      <td>0</td>\n",
       "      <td>0</td>\n",
       "      <td>0</td>\n",
       "      <td>16</td>\n",
       "      <td>265492</td>\n",
       "      <td>0</td>\n",
       "      <td>0</td>\n",
       "      <td>0</td>\n",
       "    </tr>\n",
       "    <tr>\n",
       "      <th>115825</th>\n",
       "      <td>2015-08-25</td>\n",
       "      <td>W1F1NS0C</td>\n",
       "      <td>0</td>\n",
       "      <td>240875616</td>\n",
       "      <td>0</td>\n",
       "      <td>0</td>\n",
       "      <td>0</td>\n",
       "      <td>6</td>\n",
       "      <td>282726</td>\n",
       "      <td>0</td>\n",
       "      <td>0</td>\n",
       "      <td>0</td>\n",
       "    </tr>\n",
       "    <tr>\n",
       "      <th>13632</th>\n",
       "      <td>2015-01-16</td>\n",
       "      <td>S1F044ET</td>\n",
       "      <td>0</td>\n",
       "      <td>162065464</td>\n",
       "      <td>0</td>\n",
       "      <td>0</td>\n",
       "      <td>0</td>\n",
       "      <td>5</td>\n",
       "      <td>247535</td>\n",
       "      <td>0</td>\n",
       "      <td>0</td>\n",
       "      <td>0</td>\n",
       "    </tr>\n",
       "    <tr>\n",
       "      <th>94443</th>\n",
       "      <td>2015-06-20</td>\n",
       "      <td>S1F0Y8MA</td>\n",
       "      <td>0</td>\n",
       "      <td>75683760</td>\n",
       "      <td>0</td>\n",
       "      <td>0</td>\n",
       "      <td>0</td>\n",
       "      <td>8</td>\n",
       "      <td>213604</td>\n",
       "      <td>0</td>\n",
       "      <td>0</td>\n",
       "      <td>0</td>\n",
       "    </tr>\n",
       "    <tr>\n",
       "      <th>59227</th>\n",
       "      <td>2015-03-22</td>\n",
       "      <td>W1F1DQR9</td>\n",
       "      <td>0</td>\n",
       "      <td>114316808</td>\n",
       "      <td>0</td>\n",
       "      <td>0</td>\n",
       "      <td>0</td>\n",
       "      <td>8</td>\n",
       "      <td>26</td>\n",
       "      <td>0</td>\n",
       "      <td>0</td>\n",
       "      <td>0</td>\n",
       "    </tr>\n",
       "    <tr>\n",
       "      <th>124117</th>\n",
       "      <td>2015-10-21</td>\n",
       "      <td>W1F1CJ3G</td>\n",
       "      <td>0</td>\n",
       "      <td>80079808</td>\n",
       "      <td>0</td>\n",
       "      <td>7</td>\n",
       "      <td>0</td>\n",
       "      <td>8</td>\n",
       "      <td>326827</td>\n",
       "      <td>0</td>\n",
       "      <td>0</td>\n",
       "      <td>0</td>\n",
       "    </tr>\n",
       "    <tr>\n",
       "      <th>79738</th>\n",
       "      <td>2015-05-09</td>\n",
       "      <td>Z1F0LNQB</td>\n",
       "      <td>0</td>\n",
       "      <td>108555768</td>\n",
       "      <td>0</td>\n",
       "      <td>0</td>\n",
       "      <td>0</td>\n",
       "      <td>10</td>\n",
       "      <td>468342</td>\n",
       "      <td>0</td>\n",
       "      <td>0</td>\n",
       "      <td>0</td>\n",
       "    </tr>\n",
       "    <tr>\n",
       "      <th>87119</th>\n",
       "      <td>2015-05-30</td>\n",
       "      <td>S1F10RWZ</td>\n",
       "      <td>0</td>\n",
       "      <td>54668256</td>\n",
       "      <td>0</td>\n",
       "      <td>0</td>\n",
       "      <td>0</td>\n",
       "      <td>13</td>\n",
       "      <td>262118</td>\n",
       "      <td>0</td>\n",
       "      <td>0</td>\n",
       "      <td>0</td>\n",
       "    </tr>\n",
       "    <tr>\n",
       "      <th>26990</th>\n",
       "      <td>2015-02-03</td>\n",
       "      <td>W1F1CKKW</td>\n",
       "      <td>0</td>\n",
       "      <td>87091664</td>\n",
       "      <td>0</td>\n",
       "      <td>0</td>\n",
       "      <td>0</td>\n",
       "      <td>16</td>\n",
       "      <td>324662</td>\n",
       "      <td>0</td>\n",
       "      <td>0</td>\n",
       "      <td>1</td>\n",
       "    </tr>\n",
       "    <tr>\n",
       "      <th>114657</th>\n",
       "      <td>2015-08-20</td>\n",
       "      <td>S1F13KF6</td>\n",
       "      <td>0</td>\n",
       "      <td>76039168</td>\n",
       "      <td>0</td>\n",
       "      <td>0</td>\n",
       "      <td>0</td>\n",
       "      <td>9</td>\n",
       "      <td>246967</td>\n",
       "      <td>0</td>\n",
       "      <td>0</td>\n",
       "      <td>0</td>\n",
       "    </tr>\n",
       "    <tr>\n",
       "      <th>104746</th>\n",
       "      <td>2015-07-20</td>\n",
       "      <td>S1F0RVVR</td>\n",
       "      <td>0</td>\n",
       "      <td>219527608</td>\n",
       "      <td>0</td>\n",
       "      <td>0</td>\n",
       "      <td>0</td>\n",
       "      <td>8</td>\n",
       "      <td>189774</td>\n",
       "      <td>0</td>\n",
       "      <td>0</td>\n",
       "      <td>0</td>\n",
       "    </tr>\n",
       "    <tr>\n",
       "      <th>119676</th>\n",
       "      <td>2015-09-18</td>\n",
       "      <td>W1F1DABR</td>\n",
       "      <td>0</td>\n",
       "      <td>27819432</td>\n",
       "      <td>0</td>\n",
       "      <td>0</td>\n",
       "      <td>0</td>\n",
       "      <td>11</td>\n",
       "      <td>35</td>\n",
       "      <td>0</td>\n",
       "      <td>0</td>\n",
       "      <td>0</td>\n",
       "    </tr>\n",
       "    <tr>\n",
       "      <th>8796</th>\n",
       "      <td>2015-01-09</td>\n",
       "      <td>W1F0L2Q7</td>\n",
       "      <td>0</td>\n",
       "      <td>152529384</td>\n",
       "      <td>0</td>\n",
       "      <td>0</td>\n",
       "      <td>0</td>\n",
       "      <td>61</td>\n",
       "      <td>224447</td>\n",
       "      <td>0</td>\n",
       "      <td>0</td>\n",
       "      <td>0</td>\n",
       "    </tr>\n",
       "  </tbody>\n",
       "</table>\n",
       "</div>"
      ],
      "text/plain": [
       "              date    device  failure  attribute1  attribute2  attribute3  \\\n",
       "53003   2015-03-13  W1F0TATM        0    79465432           0           0   \n",
       "47577   2015-03-05  W1F0P3FR        0    82417216           0           0   \n",
       "85322   2015-05-25  S1F0S30R        0   172933256           0           0   \n",
       "115825  2015-08-25  W1F1NS0C        0   240875616           0           0   \n",
       "13632   2015-01-16  S1F044ET        0   162065464           0           0   \n",
       "94443   2015-06-20  S1F0Y8MA        0    75683760           0           0   \n",
       "59227   2015-03-22  W1F1DQR9        0   114316808           0           0   \n",
       "124117  2015-10-21  W1F1CJ3G        0    80079808           0           7   \n",
       "79738   2015-05-09  Z1F0LNQB        0   108555768           0           0   \n",
       "87119   2015-05-30  S1F10RWZ        0    54668256           0           0   \n",
       "26990   2015-02-03  W1F1CKKW        0    87091664           0           0   \n",
       "114657  2015-08-20  S1F13KF6        0    76039168           0           0   \n",
       "104746  2015-07-20  S1F0RVVR        0   219527608           0           0   \n",
       "119676  2015-09-18  W1F1DABR        0    27819432           0           0   \n",
       "8796    2015-01-09  W1F0L2Q7        0   152529384           0           0   \n",
       "\n",
       "        attribute4  attribute5  attribute6  attribute7  attribute8  attribute9  \n",
       "53003            6          32      250821           0           0           0  \n",
       "47577            0          12      300691           0           0           1  \n",
       "85322            0          16      265492           0           0           0  \n",
       "115825           0           6      282726           0           0           0  \n",
       "13632            0           5      247535           0           0           0  \n",
       "94443            0           8      213604           0           0           0  \n",
       "59227            0           8          26           0           0           0  \n",
       "124117           0           8      326827           0           0           0  \n",
       "79738            0          10      468342           0           0           0  \n",
       "87119            0          13      262118           0           0           0  \n",
       "26990            0          16      324662           0           0           1  \n",
       "114657           0           9      246967           0           0           0  \n",
       "104746           0           8      189774           0           0           0  \n",
       "119676           0          11          35           0           0           0  \n",
       "8796             0          61      224447           0           0           0  "
      ]
     },
     "execution_count": 4,
     "metadata": {},
     "output_type": "execute_result"
    }
   ],
   "source": [
    "df.sample(15)"
   ]
  },
  {
   "cell_type": "code",
   "execution_count": 5,
   "id": "fa7082d0",
   "metadata": {},
   "outputs": [
    {
     "data": {
      "text/plain": [
       "date          0\n",
       "device        0\n",
       "failure       0\n",
       "attribute1    0\n",
       "attribute2    0\n",
       "attribute3    0\n",
       "attribute4    0\n",
       "attribute5    0\n",
       "attribute6    0\n",
       "attribute7    0\n",
       "attribute8    0\n",
       "attribute9    0\n",
       "dtype: int64"
      ]
     },
     "execution_count": 5,
     "metadata": {},
     "output_type": "execute_result"
    }
   ],
   "source": [
    "df.isnull().sum()"
   ]
  },
  {
   "cell_type": "code",
   "execution_count": 6,
   "id": "1ea122bb",
   "metadata": {},
   "outputs": [
    {
     "data": {
      "text/plain": [
       "0    124388\n",
       "1       106\n",
       "Name: failure, dtype: int64"
      ]
     },
     "execution_count": 6,
     "metadata": {},
     "output_type": "execute_result"
    }
   ],
   "source": [
    "df[\"failure\"].value_counts()"
   ]
  },
  {
   "cell_type": "code",
   "execution_count": 7,
   "id": "c88b9f0c",
   "metadata": {},
   "outputs": [
    {
     "data": {
      "text/plain": [
       "<AxesSubplot:xlabel='failure', ylabel='count'>"
      ]
     },
     "execution_count": 7,
     "metadata": {},
     "output_type": "execute_result"
    },
    {
     "data": {
      "image/png": "[encoded data removed]",
      "text/plain": [
       "<Figure size 432x288 with 1 Axes>"
      ]
     },
     "metadata": {
      "needs_background": "light"
     },
     "output_type": "display_data"
    }
   ],
   "source": [
    "sns.countplot(x=\"failure\",data=df)"
   ]
  },
  {
   "cell_type": "markdown",
   "id": "e3b4741e",
   "metadata": {},
   "source": [
    "## Feature Enginnering\n",
    "### - undersampling"
   ]
  },
  {
   "cell_type": "code",
   "execution_count": 8,
   "id": "fcf78238",
   "metadata": {},
   "outputs": [
    {
     "data": {
      "text/plain": [
       "106"
      ]
     },
     "execution_count": 8,
     "metadata": {},
     "output_type": "execute_result"
    }
   ],
   "source": [
    "minlen=len(df[df[\"failure\"]==1])\n",
    "minlen"
   ]
  },
  {
   "cell_type": "code",
   "execution_count": 9,
   "id": "0aa1858c",
   "metadata": {},
   "outputs": [
    {
     "data": {
      "text/plain": [
       "Int64Index([     0,      1,      2,      3,      4,      5,      6,      7,\n",
       "                 8,      9,\n",
       "            ...\n",
       "            124484, 124485, 124486, 124487, 124488, 124489, 124490, 124491,\n",
       "            124492, 124493],\n",
       "           dtype='int64', length=124388)"
      ]
     },
     "execution_count": 9,
     "metadata": {},
     "output_type": "execute_result"
    }
   ],
   "source": [
    "major_ind=df[df[\"failure\"]==0].index\n",
    "major_ind"
   ]
  },
  {
   "cell_type": "code",
   "execution_count": 10,
   "id": "0ff18ac1",
   "metadata": {},
   "outputs": [
    {
     "data": {
      "text/plain": [
       "106"
      ]
     },
     "execution_count": 10,
     "metadata": {},
     "output_type": "execute_result"
    }
   ],
   "source": [
    "import random\n",
    "rand_maj_ind=np.random.choice(major_ind,minlen,replace=False)\n",
    "len(rand_maj_ind)"
   ]
  },
  {
   "cell_type": "code",
   "execution_count": 11,
   "id": "1d9d0cd9",
   "metadata": {},
   "outputs": [
    {
     "data": {
      "text/plain": [
       "Int64Index([  4885,   6879,   8823,  11957,  12668,  14734,  15087,  15773,\n",
       "             15859,  15898,\n",
       "            ...\n",
       "            107586, 108173, 108625, 109371, 109395, 109927, 114251, 122118,\n",
       "            122808, 124329],\n",
       "           dtype='int64', length=106)"
      ]
     },
     "execution_count": 11,
     "metadata": {},
     "output_type": "execute_result"
    }
   ],
   "source": [
    "min_ind=df[df[\"failure\"]==1].index\n",
    "min_ind"
   ]
  },
  {
   "cell_type": "code",
   "execution_count": 12,
   "id": "cfac067d",
   "metadata": {},
   "outputs": [],
   "source": [
    "under_sample_ind=np.concatenate([min_ind,rand_maj_ind])"
   ]
  },
  {
   "cell_type": "code",
   "execution_count": 13,
   "id": "c1665a6a",
   "metadata": {},
   "outputs": [],
   "source": [
    "under_sample=df.loc[under_sample_ind]"
   ]
  },
  {
   "cell_type": "code",
   "execution_count": 14,
   "id": "23a7ad5f",
   "metadata": {},
   "outputs": [
    {
     "data": {
      "text/plain": [
       "<AxesSubplot:xlabel='failure', ylabel='count'>"
      ]
     },
     "execution_count": 14,
     "metadata": {},
     "output_type": "execute_result"
    },
    {
     "data": {
      "image/png": "[encoded data removed]",
      "text/plain": [
       "<Figure size 432x288 with 1 Axes>"
      ]
     },
     "metadata": {
      "needs_background": "light"
     },
     "output_type": "display_data"
    }
   ],
   "source": [
    "sns.countplot(x=\"failure\",data=under_sample)"
   ]
  },
  {
   "cell_type": "code",
   "execution_count": 15,
   "id": "5e1fee09",
   "metadata": {},
   "outputs": [
    {
     "data": {
      "text/html": [
       "<div>\n",
       "<style scoped>\n",
       "    .dataframe tbody tr th:only-of-type {\n",
       "        vertical-align: middle;\n",
       "    }\n",
       "\n",
       "    .dataframe tbody tr th {\n",
       "        vertical-align: top;\n",
       "    }\n",
       "\n",
       "    .dataframe thead th {\n",
       "        text-align: right;\n",
       "    }\n",
       "</style>\n",
       "<table border=\"1\" class=\"dataframe\">\n",
       "  <thead>\n",
       "    <tr style=\"text-align: right;\">\n",
       "      <th></th>\n",
       "      <th>date</th>\n",
       "      <th>device</th>\n",
       "      <th>failure</th>\n",
       "      <th>attribute1</th>\n",
       "      <th>attribute2</th>\n",
       "      <th>attribute3</th>\n",
       "      <th>attribute4</th>\n",
       "      <th>attribute5</th>\n",
       "      <th>attribute6</th>\n",
       "      <th>attribute7</th>\n",
       "      <th>attribute8</th>\n",
       "      <th>attribute9</th>\n",
       "    </tr>\n",
       "  </thead>\n",
       "  <tbody>\n",
       "    <tr>\n",
       "      <th>4885</th>\n",
       "      <td>2015-01-05</td>\n",
       "      <td>S1F0RRB1</td>\n",
       "      <td>1</td>\n",
       "      <td>48467332</td>\n",
       "      <td>64776</td>\n",
       "      <td>0</td>\n",
       "      <td>841</td>\n",
       "      <td>8</td>\n",
       "      <td>39267</td>\n",
       "      <td>56</td>\n",
       "      <td>56</td>\n",
       "      <td>1</td>\n",
       "    </tr>\n",
       "    <tr>\n",
       "      <th>6879</th>\n",
       "      <td>2015-01-07</td>\n",
       "      <td>S1F0CTDN</td>\n",
       "      <td>1</td>\n",
       "      <td>184069720</td>\n",
       "      <td>528</td>\n",
       "      <td>0</td>\n",
       "      <td>4</td>\n",
       "      <td>9</td>\n",
       "      <td>387871</td>\n",
       "      <td>32</td>\n",
       "      <td>32</td>\n",
       "      <td>3</td>\n",
       "    </tr>\n",
       "    <tr>\n",
       "      <th>8823</th>\n",
       "      <td>2015-01-09</td>\n",
       "      <td>W1F0PNA5</td>\n",
       "      <td>1</td>\n",
       "      <td>136429411</td>\n",
       "      <td>64784</td>\n",
       "      <td>0</td>\n",
       "      <td>406</td>\n",
       "      <td>30</td>\n",
       "      <td>224801</td>\n",
       "      <td>8</td>\n",
       "      <td>8</td>\n",
       "      <td>0</td>\n",
       "    </tr>\n",
       "    <tr>\n",
       "      <th>11957</th>\n",
       "      <td>2015-01-13</td>\n",
       "      <td>W1F13SRV</td>\n",
       "      <td>1</td>\n",
       "      <td>188251248</td>\n",
       "      <td>2040</td>\n",
       "      <td>0</td>\n",
       "      <td>0</td>\n",
       "      <td>6</td>\n",
       "      <td>39345</td>\n",
       "      <td>32</td>\n",
       "      <td>32</td>\n",
       "      <td>1</td>\n",
       "    </tr>\n",
       "    <tr>\n",
       "      <th>12668</th>\n",
       "      <td>2015-01-14</td>\n",
       "      <td>W1F1230J</td>\n",
       "      <td>1</td>\n",
       "      <td>220461296</td>\n",
       "      <td>0</td>\n",
       "      <td>0</td>\n",
       "      <td>0</td>\n",
       "      <td>14</td>\n",
       "      <td>325125</td>\n",
       "      <td>0</td>\n",
       "      <td>0</td>\n",
       "      <td>0</td>\n",
       "    </tr>\n",
       "  </tbody>\n",
       "</table>\n",
       "</div>"
      ],
      "text/plain": [
       "             date    device  failure  attribute1  attribute2  attribute3  \\\n",
       "4885   2015-01-05  S1F0RRB1        1    48467332       64776           0   \n",
       "6879   2015-01-07  S1F0CTDN        1   184069720         528           0   \n",
       "8823   2015-01-09  W1F0PNA5        1   136429411       64784           0   \n",
       "11957  2015-01-13  W1F13SRV        1   188251248        2040           0   \n",
       "12668  2015-01-14  W1F1230J        1   220461296           0           0   \n",
       "\n",
       "       attribute4  attribute5  attribute6  attribute7  attribute8  attribute9  \n",
       "4885          841           8       39267          56          56           1  \n",
       "6879            4           9      387871          32          32           3  \n",
       "8823          406          30      224801           8           8           0  \n",
       "11957           0           6       39345          32          32           1  \n",
       "12668           0          14      325125           0           0           0  "
      ]
     },
     "execution_count": 15,
     "metadata": {},
     "output_type": "execute_result"
    }
   ],
   "source": [
    "under_sample.head()"
   ]
  },
  {
   "cell_type": "code",
   "execution_count": 16,
   "id": "c4aa2e71",
   "metadata": {},
   "outputs": [
    {
     "data": {
      "text/plain": [
       "196"
      ]
     },
     "execution_count": 16,
     "metadata": {},
     "output_type": "execute_result"
    }
   ],
   "source": [
    "under_sample[\"device\"].nunique()"
   ]
  },
  {
   "cell_type": "code",
   "execution_count": 17,
   "id": "80edb67a",
   "metadata": {},
   "outputs": [],
   "source": [
    "under_sample.drop(\"date\",axis=1,inplace=True)"
   ]
  },
  {
   "cell_type": "code",
   "execution_count": 18,
   "id": "33f6bfb5",
   "metadata": {},
   "outputs": [],
   "source": [
    "under_sample=pd.get_dummies(under_sample,drop_first=True)"
   ]
  },
  {
   "cell_type": "markdown",
   "id": "7f92eb8f",
   "metadata": {},
   "source": [
    "## Fit and Predict"
   ]
  },
  {
   "cell_type": "code",
   "execution_count": 19,
   "id": "6a191088",
   "metadata": {},
   "outputs": [],
   "source": [
    "x= under_sample.loc[:, under_sample.columns!=\"failure\"]\n",
    "y = under_sample.loc[:, under_sample.columns==\"failure\"]"
   ]
  },
  {
   "cell_type": "code",
   "execution_count": 20,
   "id": "173278ff",
   "metadata": {},
   "outputs": [],
   "source": [
    "x_train,x_test,y_train,y_test=train_test_split(x,y,test_size=0.20,random_state=101)"
   ]
  },
  {
   "cell_type": "code",
   "execution_count": 21,
   "id": "e668f1a1",
   "metadata": {},
   "outputs": [
    {
     "data": {
      "text/plain": [
       "(169, 1)"
      ]
     },
     "execution_count": 21,
     "metadata": {},
     "output_type": "execute_result"
    }
   ],
   "source": [
    "y_train.shape"
   ]
  },
  {
   "cell_type": "code",
   "execution_count": 22,
   "id": "64221235",
   "metadata": {},
   "outputs": [],
   "source": [
    "g=GaussianNB()\n",
    "b=BernoulliNB()\n",
    "k=KNeighborsClassifier()\n",
    "d=DecisionTreeClassifier()\n",
    "gbc=GradientBoostingClassifier()\n",
    "svc=SVC()"
   ]
  },
  {
   "cell_type": "code",
   "execution_count": 30,
   "id": "04bc639b",
   "metadata": {},
   "outputs": [],
   "source": [
    "g.fit(x_train,y_train)\n",
    "y_pred=g.predict(x_test)"
   ]
  },
  {
   "cell_type": "code",
   "execution_count": 24,
   "id": "e215fe91",
   "metadata": {},
   "outputs": [],
   "source": [
    "algorithms = [g,b,k,d,gbc,svc]\n",
    "names = ['GaussianNB', 'BernoulliNB', 'K Nearest', 'Single Tree','Gradient Boost',\"SVC\"]"
   ]
  },
  {
   "cell_type": "markdown",
   "id": "a5893ac0",
   "metadata": {},
   "source": [
    "**- I edited the funcation for DataFrame**"
   ]
  },
  {
   "cell_type": "code",
   "execution_count": 25,
   "id": "8f1320bc",
   "metadata": {},
   "outputs": [],
   "source": [
    "def evaluate_model():\n",
    "    # fit the data\n",
    "    for i in range(len(algorithms)):\n",
    "        algorithms[i] = algorithms[i].fit(x_train, y_train)\n",
    "    # print metrics\n",
    "    accuracy = []\n",
    "    precision = []\n",
    "    recall = []\n",
    "    f1 = []\n",
    "    for i in range(len(algorithms)):\n",
    "        if accuracy_score(y_test, algorithms[i].predict(x_test)) == 1:\n",
    "            accuracy.append(0)\n",
    "        else:   \n",
    "            accuracy.append(accuracy_score(y_test, algorithms[i].predict(x_test)))\n",
    "        if precision_score(y_test, algorithms[i].predict(x_test)) == 1:\n",
    "            precision.append(0)\n",
    "        else:   \n",
    "            precision.append(precision_score(y_test, algorithms[i].predict(x_test)))\n",
    "        if recall_score(y_test, algorithms[i].predict(x_test)) == 1:\n",
    "            recall.append(0)\n",
    "        else:   \n",
    "            recall.append(recall_score(y_test, algorithms[i].predict(x_test)))\n",
    "        if f1_score(y_test, algorithms[i].predict(x_test)) == 1:\n",
    "            f1.append(0)\n",
    "        else:   \n",
    "            f1.append(f1_score(y_test, algorithms[i].predict(x_test)))\n",
    "    metrics = pd.DataFrame(columns = ['Accuracy', 'Precision', 'Recall', 'F1'], index = names)\n",
    "    metrics['Accuracy'] = accuracy\n",
    "    metrics['Precision'] = precision\n",
    "    metrics['Recall'] = recall\n",
    "    metrics['F1'] = f1\n",
    "    return metrics.sort_values('Accuracy', ascending = False)"
   ]
  },
  {
   "cell_type": "code",
   "execution_count": 26,
   "id": "0f7ac63c",
   "metadata": {},
   "outputs": [
    {
     "data": {
      "text/html": [
       "<div>\n",
       "<style scoped>\n",
       "    .dataframe tbody tr th:only-of-type {\n",
       "        vertical-align: middle;\n",
       "    }\n",
       "\n",
       "    .dataframe tbody tr th {\n",
       "        vertical-align: top;\n",
       "    }\n",
       "\n",
       "    .dataframe thead th {\n",
       "        text-align: right;\n",
       "    }\n",
       "</style>\n",
       "<table border=\"1\" class=\"dataframe\">\n",
       "  <thead>\n",
       "    <tr style=\"text-align: right;\">\n",
       "      <th></th>\n",
       "      <th>Accuracy</th>\n",
       "      <th>Precision</th>\n",
       "      <th>Recall</th>\n",
       "      <th>F1</th>\n",
       "    </tr>\n",
       "  </thead>\n",
       "  <tbody>\n",
       "    <tr>\n",
       "      <th>BernoulliNB</th>\n",
       "      <td>0.860465</td>\n",
       "      <td>0.800000</td>\n",
       "      <td>0.952381</td>\n",
       "      <td>0.869565</td>\n",
       "    </tr>\n",
       "    <tr>\n",
       "      <th>Gradient Boost</th>\n",
       "      <td>0.813953</td>\n",
       "      <td>0.760000</td>\n",
       "      <td>0.904762</td>\n",
       "      <td>0.826087</td>\n",
       "    </tr>\n",
       "    <tr>\n",
       "      <th>Single Tree</th>\n",
       "      <td>0.744186</td>\n",
       "      <td>0.678571</td>\n",
       "      <td>0.904762</td>\n",
       "      <td>0.775510</td>\n",
       "    </tr>\n",
       "    <tr>\n",
       "      <th>GaussianNB</th>\n",
       "      <td>0.558140</td>\n",
       "      <td>0.583333</td>\n",
       "      <td>0.333333</td>\n",
       "      <td>0.424242</td>\n",
       "    </tr>\n",
       "    <tr>\n",
       "      <th>SVC</th>\n",
       "      <td>0.534884</td>\n",
       "      <td>0.515152</td>\n",
       "      <td>0.809524</td>\n",
       "      <td>0.629630</td>\n",
       "    </tr>\n",
       "    <tr>\n",
       "      <th>K Nearest</th>\n",
       "      <td>0.348837</td>\n",
       "      <td>0.347826</td>\n",
       "      <td>0.380952</td>\n",
       "      <td>0.363636</td>\n",
       "    </tr>\n",
       "  </tbody>\n",
       "</table>\n",
       "</div>"
      ],
      "text/plain": [
       "                Accuracy  Precision    Recall        F1\n",
       "BernoulliNB     0.860465   0.800000  0.952381  0.869565\n",
       "Gradient Boost  0.813953   0.760000  0.904762  0.826087\n",
       "Single Tree     0.744186   0.678571  0.904762  0.775510\n",
       "GaussianNB      0.558140   0.583333  0.333333  0.424242\n",
       "SVC             0.534884   0.515152  0.809524  0.629630\n",
       "K Nearest       0.348837   0.347826  0.380952  0.363636"
      ]
     },
     "execution_count": 26,
     "metadata": {},
     "output_type": "execute_result"
    }
   ],
   "source": [
    "evaluate_model()"
   ]
  },
  {
   "cell_type": "code",
   "execution_count": null,
   "id": "c9ffbf26",
   "metadata": {},
   "outputs": [],
   "source": []
  },
  {
   "cell_type": "code",
   "execution_count": null,
   "id": "3ebb9291",
   "metadata": {},
   "outputs": [],
   "source": []
  },
  {
   "cell_type": "code",
   "execution_count": null,
   "id": "b1c7e984",
   "metadata": {},
   "outputs": [],
   "source": []
  },
  {
   "cell_type": "code",
   "execution_count": null,
   "id": "710b4320",
   "metadata": {},
   "outputs": [],
   "source": []
  }
 ],
 "metadata": {
  "kernelspec": {
   "display_name": "Python 3 (ipykernel)",
   "language": "python",
   "name": "python3"
  },
  "language_info": {
   "codemirror_mode": {
    "name": "ipython",
    "version": 3
   },
   "file_extension": ".py",
   "mimetype": "text/x-python",
   "name": "python",
   "nbconvert_exporter": "python",
   "pygments_lexer": "ipython3",
   "version": "3.9.7"
  }
 },
 "nbformat": 4,
 "nbformat_minor": 5
}
